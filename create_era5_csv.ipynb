{
 "cells": [
  {
   "cell_type": "code",
   "execution_count": 3,
   "id": "18d3daa5",
   "metadata": {},
   "outputs": [],
   "source": [
    "import numpy as np\n",
    "import xarray as xr\n",
    "import pandas as pd\n",
    "import glob"
   ]
  },
  {
   "cell_type": "code",
   "execution_count": 4,
   "id": "5c5799a8",
   "metadata": {},
   "outputs": [
    {
     "name": "stdout",
     "output_type": "stream",
     "text": [
      "['/Users/ahutson/research/rand_era5_data/era5_2019.nc', '/Users/ahutson/research/rand_era5_data/era5_2020.nc', '/Users/ahutson/research/rand_era5_data/era5_2021.nc']\n"
     ]
    }
   ],
   "source": [
    "filelist = sorted(glob.glob('/Users/ahutson/research/rand_era5_data/era5_*'))\n",
    "print(filelist)"
   ]
  },
  {
   "cell_type": "code",
   "execution_count": 30,
   "id": "38ac77f5",
   "metadata": {},
   "outputs": [
    {
     "name": "stdout",
     "output_type": "stream",
     "text": [
      "/Users/ahutson/research/rand_era5_data/era5_2019.nc\n",
      "(728,)\n",
      "/Users/ahutson/research/rand_era5_data/era5_2020.nc\n",
      "(1460,)\n",
      "/Users/ahutson/research/rand_era5_data/era5_2021.nc\n",
      "(2188,)\n"
     ]
    }
   ],
   "source": [
    "for f,file in enumerate(filelist):\n",
    "    print(file)\n",
    "    fh = xr.open_dataset(file)\n",
    "    lat,lon = fh.latitude.data,fh.longitude.data\n",
    "    time = fh.time.data\n",
    "    \n",
    "    t2m = fh.t2m.data\n",
    "    tp  = fh.tp.data\n",
    "    \n",
    "    # find gridpoint closest to CIGLR coordinates\n",
    "    ciglr = [42.2773, -83.7366]\n",
    "    clat  = np.argwhere(np.abs(lat-ciglr[0])<0.1)[0]\n",
    "    clon  = np.argwhere(np.abs(lon-ciglr[1])<0.1)[0]\n",
    "    \n",
    "    # get temperature,precip from ciglr, append to total array\n",
    "    if f==0:\n",
    "        time_all= time\n",
    "        t2m_all = t2m[:,clat,clon][:,0]\n",
    "        tp_all  = tp[:,clat,clon][:,0]\n",
    "    else:\n",
    "        time_all= np.concatenate((time_all,time))\n",
    "        t2m_all = np.concatenate((t2m_all,t2m[:,clat,clon][:,0]))\n",
    "        tp_all  = np.concatenate((tp_all,tp[:,clat,clon][:,0]))\n",
    "    print(tp_all.shape)\n",
    "    \n",
    "    "
   ]
  },
  {
   "cell_type": "code",
   "execution_count": 43,
   "id": "7099f5b4",
   "metadata": {},
   "outputs": [],
   "source": [
    "d  = {'time':time_all,'t2':t2m_all,'precip':tp_all}\n",
    "df = pd.DataFrame(data=d)\n",
    "df = df.set_index('time')\n",
    "df.to_csv('era5_ciglr_temp.nc')"
   ]
  },
  {
   "cell_type": "code",
   "execution_count": null,
   "id": "7c7e066c",
   "metadata": {},
   "outputs": [],
   "source": []
  }
 ],
 "metadata": {
  "kernelspec": {
   "display_name": "Python (ciglr)",
   "language": "python",
   "name": "ciglr"
  },
  "language_info": {
   "codemirror_mode": {
    "name": "ipython",
    "version": 3
   },
   "file_extension": ".py",
   "mimetype": "text/x-python",
   "name": "python",
   "nbconvert_exporter": "python",
   "pygments_lexer": "ipython3",
   "version": "3.11.0"
  }
 },
 "nbformat": 4,
 "nbformat_minor": 5
}
