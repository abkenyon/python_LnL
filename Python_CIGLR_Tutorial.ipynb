{
 "cells": [
  {
   "cell_type": "code",
   "execution_count": null,
   "id": "464a610d",
   "metadata": {},
   "outputs": [],
   "source": []
  },
  {
   "cell_type": "code",
   "execution_count": 1,
   "id": "be639ae1",
   "metadata": {},
   "outputs": [],
   "source": [
    "import numpy as np"
   ]
  },
  {
   "cell_type": "markdown",
   "id": "01b5f1fc",
   "metadata": {},
   "source": [
    "# Quick Introduction: Variables, Strings, and Arrays"
   ]
  },
  {
   "cell_type": "code",
   "execution_count": 5,
   "id": "8110215a",
   "metadata": {},
   "outputs": [
    {
     "name": "stdout",
     "output_type": "stream",
     "text": [
      "int 5\n",
      "float 10.0\n",
      "string hello\n"
     ]
    }
   ],
   "source": [
    "# Setting a variable\n",
    "\n",
    "# Setting a variable can be integers, floats, or string...you don't have to specify!\n",
    "a = 5\n",
    "b = 10.0\n",
    "c = 'hello'\n",
    "\n",
    "print('int',a)\n",
    "print('float',b)\n",
    "print('string',c)\n"
   ]
  },
  {
   "cell_type": "code",
   "execution_count": 8,
   "id": "c4a01264",
   "metadata": {},
   "outputs": [
    {
     "name": "stdout",
     "output_type": "stream",
     "text": [
      "15.0\n",
      "10\n",
      "10.0\n"
     ]
    }
   ],
   "source": [
    "# math with variables\n",
    "\n",
    "# you can do math between floats and strings...Python will keep the highest precision!\n",
    "\n",
    "test1 = a+b\n",
    "test2 = a+5 # this will stay integer!\n",
    "test3 = a+5.0\n",
    "\n",
    "print(test)\n",
    "print(test2)\n",
    "print(test3)"
   ]
  },
  {
   "cell_type": "markdown",
   "id": "8c6d2796",
   "metadata": {},
   "source": [
    "### Arrays"
   ]
  },
  {
   "cell_type": "code",
   "execution_count": 15,
   "id": "fe28b949",
   "metadata": {},
   "outputs": [
    {
     "name": "stdout",
     "output_type": "stream",
     "text": [
      "[0.39302983 0.31754156 0.75559002 0.96609151 0.72067645 0.6916647\n",
      " 0.61050651 0.4849132  0.31543131 0.67851609]\n"
     ]
    }
   ],
   "source": [
    "# The Numpy Python package makes working with arrays incredibly easy. \n",
    "\n",
    "# create random array\n",
    "arr = np.random.rand(10)\n",
    "print(arr)"
   ]
  },
  {
   "cell_type": "code",
   "execution_count": 17,
   "id": "4be050af",
   "metadata": {},
   "outputs": [
    {
     "name": "stdout",
     "output_type": "stream",
     "text": [
      "[1.39302983 1.31754156 1.75559002 1.96609151 1.72067645 1.6916647\n",
      " 1.61050651 1.4849132  1.31543131 1.67851609]\n",
      "\n",
      "[0.78605965 0.63508312 1.51118004 1.93218301 1.4413529  1.38332939\n",
      " 1.22101302 0.9698264  0.63086262 1.35703219]\n"
     ]
    }
   ],
   "source": [
    "# Math with arrays \n",
    "\n",
    "# you can add/multiply a scalar value to an array and it will be applied to all entries\n",
    "arr_add = arr + 1.0\n",
    "print(arr_add)\n",
    "print('')\n",
    "\n",
    "arr_mult = arr * 2.0\n",
    "print(arr_mult)"
   ]
  },
  {
   "cell_type": "code",
   "execution_count": 27,
   "id": "803491b3",
   "metadata": {},
   "outputs": [
    {
     "name": "stdout",
     "output_type": "stream",
     "text": [
      "[0 1 2 3 4 5 6 7 8 9]\n",
      "\n",
      "(10,) (10,)\n",
      "\n",
      "[0.39302983 1.31754156 2.75559002 3.96609151 4.72067645 5.6916647\n",
      " 6.61050651 7.4849132  8.31543131 9.67851609]\n"
     ]
    }
   ],
   "source": [
    "# you can also add/multiply two arrays together...but they must be the same shape!\n",
    "\n",
    "#create an array of integers\n",
    "ints = np.arange(0,10)\n",
    "print(ints)\n",
    "print('')\n",
    "\n",
    "# numpy makes it easy to see the \"shape\" of each array\n",
    "print(arr.shape, ints.shape) #<-- each of these arrays have 10 entries\n",
    "print('')\n",
    "\n",
    "# now add them together\n",
    "arr_plus_int = arr + ints\n",
    "print(arr_plus_int)"
   ]
  },
  {
   "cell_type": "markdown",
   "id": "078c5a00",
   "metadata": {},
   "source": [
    "**Activity #1**\n",
    "\n",
    "Find the average between two arrays \"a\" and \"b\", and assign it to the variable \"ab_mean\" (important: do not find the mean of EACH array, instead create a new array that is the average between the two given)"
   ]
  },
  {
   "cell_type": "code",
   "execution_count": null,
   "id": "a7d50216",
   "metadata": {},
   "outputs": [],
   "source": [
    "a = np.asarray([2,5,8,3,6])\n",
    "b = np.asarray([4,3,2,3,10])\n",
    "\n",
    "# code your solution below\n",
    "\n",
    "\n",
    "\n"
   ]
  },
  {
   "cell_type": "markdown",
   "id": "a8a0ea77",
   "metadata": {},
   "source": [
    "### Array Statistics"
   ]
  },
  {
   "cell_type": "code",
   "execution_count": 38,
   "id": "1a7e7784",
   "metadata": {},
   "outputs": [
    {
     "name": "stdout",
     "output_type": "stream",
     "text": [
      "[27. 21.  1.  1. 11. 40. 29. 19. 19. 13. 12. 38. 49. 31. 17. 38. 42. 30.\n",
      "  0. 33. 45. 29. 38. 36.  9. 44. 47. 48. 45.  4.]\n"
     ]
    }
   ],
   "source": [
    "# Numpy makes it SUPER easy to find the statistics of different arrays\n",
    "rand = np.random.randint(0,50,size=30).astype(float)\n",
    "print(rand)"
   ]
  },
  {
   "cell_type": "code",
   "execution_count": 39,
   "id": "0ea38600",
   "metadata": {},
   "outputs": [
    {
     "name": "stdout",
     "output_type": "stream",
     "text": [
      "max 49.0 min 0.0\n",
      "mean 27.2\n",
      "standard deviation 15.321879780235843\n"
     ]
    }
   ],
   "source": [
    "# max and min\n",
    "print('max',np.max(rand),'min',np.min(rand))\n",
    "\n",
    "# mean\n",
    "print('mean',np.mean(rand))\n",
    "\n",
    "# standard deviation\n",
    "print('standard deviation',np.std(rand))"
   ]
  },
  {
   "cell_type": "code",
   "execution_count": 45,
   "id": "b99096d7",
   "metadata": {},
   "outputs": [
    {
     "name": "stdout",
     "output_type": "stream",
     "text": [
      "[27. 21.  1.  1. 11. nan 29. 19. 19. 13. 12. 38. 49. 31. 17. 38. 42. 30.\n",
      "  0. 33. 45. 29. 38. 36.  9. 44. 47. 48. 45.  4.]\n",
      "\n",
      "Oh no! nan\n",
      "\n",
      "nan nan nan nan\n"
     ]
    }
   ],
   "source": [
    "# UH OH! Our dataset all of a sudden has NaNs! \n",
    "rand[5] = np.nan\n",
    "print(rand)\n",
    "print('')\n",
    "\n",
    "# when you do python math with a nan, there's trouble\n",
    "print('Oh no!' ,1.0 + np.nan)\n",
    "print('')\n",
    "\n",
    "# cue dramatic music\n",
    "print(np.max(rand),np.min(rand),np.mean(rand),np.std(rand))"
   ]
  },
  {
   "cell_type": "code",
   "execution_count": 46,
   "id": "85a5fbf4",
   "metadata": {},
   "outputs": [
    {
     "name": "stdout",
     "output_type": "stream",
     "text": [
      "max 49.0 min 0.0\n",
      "mean 26.75862068965517\n",
      "standard deviation 15.39515188446606\n"
     ]
    }
   ],
   "source": [
    "# don't worry...there's an easy fix\n",
    "\n",
    "# max and min\n",
    "print('max',np.nanmax(rand),'min',np.nanmin(rand))\n",
    "\n",
    "# mean\n",
    "print('mean',np.nanmean(rand))\n",
    "\n",
    "# standard deviation\n",
    "print('standard deviation',np.nanstd(rand))"
   ]
  },
  {
   "cell_type": "markdown",
   "id": "a88cabed",
   "metadata": {},
   "source": [
    "Numpy has quite a bit of statistical options. See the link below for additional documentation:\n",
    "\n",
    "https://numpy.org/doc/stable/reference/routines.statistics.html"
   ]
  },
  {
   "cell_type": "markdown",
   "id": "2165e28f",
   "metadata": {},
   "source": [
    "### Indexing Arrays\n",
    "\n",
    "Array \"indexing\" allows us to pull out only a section of an array! But here's the kicker: Python is a 0-based array system! Meaning the first entry is \"the 0th entry\"."
   ]
  },
  {
   "cell_type": "code",
   "execution_count": 48,
   "id": "9d39da84",
   "metadata": {},
   "outputs": [
    {
     "name": "stdout",
     "output_type": "stream",
     "text": [
      "27.0\n",
      "4.0\n"
     ]
    }
   ],
   "source": [
    "# Grab the first entry in an array:\n",
    "print(rand[0])\n",
    "\n",
    "# Grab the last entry in an array:\n",
    "print(rand[-1])"
   ]
  },
  {
   "cell_type": "code",
   "execution_count": 51,
   "id": "bae784b5",
   "metadata": {},
   "outputs": [
    {
     "name": "stdout",
     "output_type": "stream",
     "text": [
      "[27. 21.  1.  1.]\n",
      "[47. 48. 45.  4.]\n"
     ]
    }
   ],
   "source": [
    "# grab the first four entries in an array:\n",
    "print(rand[:4])\n",
    "\n",
    "# grab the last four entries in an array:\n",
    "print(rand[-4:])"
   ]
  },
  {
   "cell_type": "markdown",
   "id": "d567e159",
   "metadata": {},
   "source": [
    "Another great thing about Numpy arrays is that you can ask for entries in an array that meet a certain condition! This makes it really handy when you have data that isn't QC'd yet"
   ]
  },
  {
   "cell_type": "code",
   "execution_count": 53,
   "id": "f74cbfab",
   "metadata": {},
   "outputs": [
    {
     "name": "stdout",
     "output_type": "stream",
     "text": [
      "[  4.    5.    3.2 999.    6.    5.4   7.8   9.2 999.    3.1   6.    8. ]\n",
      "\n",
      "max 999.0 min 3.1 mean 171.3083333333333\n"
     ]
    }
   ],
   "source": [
    "# Here, we have an array with 999.0 data in it\n",
    "data = np.asarray([4.,5.,3.2,999.0,6.,5.4,7.8,9.2,999.0,3.1,6.,8.])\n",
    "print(data)\n",
    "print('')\n",
    "\n",
    "# this will really muddy up our statistics\n",
    "print('max',np.max(data),'min',np.min(data),'mean',np.mean(data))"
   ]
  },
  {
   "cell_type": "code",
   "execution_count": 57,
   "id": "f5e63dd3",
   "metadata": {},
   "outputs": [
    {
     "name": "stdout",
     "output_type": "stream",
     "text": [
      "[False False False  True False False False False  True False False False]\n"
     ]
    }
   ],
   "source": [
    "# The best way to take care of these 999 issues is to replace them with NaNs\n",
    "\n",
    "# First, set a condition: we know that this dataset uses 999 as bad data. So our condition will be this:\n",
    "condition = data==999.0\n",
    "print(condition)\n"
   ]
  },
  {
   "cell_type": "code",
   "execution_count": 58,
   "id": "43e166bc",
   "metadata": {},
   "outputs": [
    {
     "name": "stdout",
     "output_type": "stream",
     "text": [
      "[999. 999.]\n"
     ]
    }
   ],
   "source": [
    "# Now, we can index the array with that \"condition\"\n",
    "print(data[condition])"
   ]
  },
  {
   "cell_type": "code",
   "execution_count": 60,
   "id": "de1c309e",
   "metadata": {},
   "outputs": [
    {
     "name": "stdout",
     "output_type": "stream",
     "text": [
      "[4.  5.  3.2 nan 6.  5.4 7.8 9.2 nan 3.1 6.  8. ]\n",
      "max 9.2 min 3.1 mean 5.77\n"
     ]
    }
   ],
   "source": [
    "# We can assign NEW ENTRIES based on that condition, too! \n",
    "data[condition] = np.nan\n",
    "print(data)\n",
    "print('')\n",
    "\n",
    "# now we can see the true statistics of the data\n",
    "print('max',np.nanmax(data),'min',np.nanmin(data),'mean',np.nanmean(data))"
   ]
  },
  {
   "cell_type": "code",
   "execution_count": 62,
   "id": "f113b5ba",
   "metadata": {},
   "outputs": [
    {
     "name": "stdout",
     "output_type": "stream",
     "text": [
      "[999. 999.]\n"
     ]
    }
   ],
   "source": [
    "# How about if we DON'T know the bad data code? Just use a reasonable condition\n",
    "data = np.asarray([4.,5.,3.2,999.0,6.,5.4,7.8,9.2,999.0,3.1,6.,8.])\n",
    "condition = data > 500\n",
    "\n",
    "print(data[condition])"
   ]
  },
  {
   "cell_type": "code",
   "execution_count": null,
   "id": "8f089d53",
   "metadata": {},
   "outputs": [],
   "source": []
  },
  {
   "cell_type": "markdown",
   "id": "ad59bd02",
   "metadata": {},
   "source": [
    "# Pandas: A Time-Series Analysis Package"
   ]
  },
  {
   "cell_type": "code",
   "execution_count": 1,
   "id": "57df7315",
   "metadata": {},
   "outputs": [],
   "source": [
    "import pandas as pd\n",
    "import matplotlib.pyplot as plt"
   ]
  },
  {
   "cell_type": "markdown",
   "id": "4bbeb26e",
   "metadata": {},
   "source": [
    "## A Real Data Example: Opening a CSV into a Pandas Dataframe"
   ]
  },
  {
   "cell_type": "code",
   "execution_count": 38,
   "id": "df7f2366",
   "metadata": {},
   "outputs": [
    {
     "data": {
      "text/html": [
       "<div>\n",
       "<style scoped>\n",
       "    .dataframe tbody tr th:only-of-type {\n",
       "        vertical-align: middle;\n",
       "    }\n",
       "\n",
       "    .dataframe tbody tr th {\n",
       "        vertical-align: top;\n",
       "    }\n",
       "\n",
       "    .dataframe thead th {\n",
       "        text-align: right;\n",
       "    }\n",
       "</style>\n",
       "<table border=\"1\" class=\"dataframe\">\n",
       "  <thead>\n",
       "    <tr style=\"text-align: right;\">\n",
       "      <th></th>\n",
       "      <th>t2</th>\n",
       "      <th>precip</th>\n",
       "    </tr>\n",
       "    <tr>\n",
       "      <th>time</th>\n",
       "      <th></th>\n",
       "      <th></th>\n",
       "    </tr>\n",
       "  </thead>\n",
       "  <tbody>\n",
       "    <tr>\n",
       "      <th>2019-01-01 00:00:00</th>\n",
       "      <td>277.37897</td>\n",
       "      <td>0.000142</td>\n",
       "    </tr>\n",
       "    <tr>\n",
       "      <th>2019-01-01 06:00:00</th>\n",
       "      <td>276.08395</td>\n",
       "      <td>0.000147</td>\n",
       "    </tr>\n",
       "    <tr>\n",
       "      <th>2019-01-01 12:00:00</th>\n",
       "      <td>275.01074</td>\n",
       "      <td>0.000003</td>\n",
       "    </tr>\n",
       "    <tr>\n",
       "      <th>2019-01-01 18:00:00</th>\n",
       "      <td>274.60864</td>\n",
       "      <td>0.000014</td>\n",
       "    </tr>\n",
       "    <tr>\n",
       "      <th>2019-01-02 00:00:00</th>\n",
       "      <td>272.00864</td>\n",
       "      <td>0.000016</td>\n",
       "    </tr>\n",
       "    <tr>\n",
       "      <th>...</th>\n",
       "      <td>...</td>\n",
       "      <td>...</td>\n",
       "    </tr>\n",
       "    <tr>\n",
       "      <th>2021-12-30 18:00:00</th>\n",
       "      <td>273.96036</td>\n",
       "      <td>0.000004</td>\n",
       "    </tr>\n",
       "    <tr>\n",
       "      <th>2021-12-31 00:00:00</th>\n",
       "      <td>274.14960</td>\n",
       "      <td>0.000012</td>\n",
       "    </tr>\n",
       "    <tr>\n",
       "      <th>2021-12-31 06:00:00</th>\n",
       "      <td>274.61150</td>\n",
       "      <td>0.000071</td>\n",
       "    </tr>\n",
       "    <tr>\n",
       "      <th>2021-12-31 12:00:00</th>\n",
       "      <td>277.37332</td>\n",
       "      <td>0.000033</td>\n",
       "    </tr>\n",
       "    <tr>\n",
       "      <th>2021-12-31 18:00:00</th>\n",
       "      <td>277.58618</td>\n",
       "      <td>0.000007</td>\n",
       "    </tr>\n",
       "  </tbody>\n",
       "</table>\n",
       "<p>2188 rows × 2 columns</p>\n",
       "</div>"
      ],
      "text/plain": [
       "                            t2    precip\n",
       "time                                    \n",
       "2019-01-01 00:00:00  277.37897  0.000142\n",
       "2019-01-01 06:00:00  276.08395  0.000147\n",
       "2019-01-01 12:00:00  275.01074  0.000003\n",
       "2019-01-01 18:00:00  274.60864  0.000014\n",
       "2019-01-02 00:00:00  272.00864  0.000016\n",
       "...                        ...       ...\n",
       "2021-12-30 18:00:00  273.96036  0.000004\n",
       "2021-12-31 00:00:00  274.14960  0.000012\n",
       "2021-12-31 06:00:00  274.61150  0.000071\n",
       "2021-12-31 12:00:00  277.37332  0.000033\n",
       "2021-12-31 18:00:00  277.58618  0.000007\n",
       "\n",
       "[2188 rows x 2 columns]"
      ]
     },
     "execution_count": 38,
     "metadata": {},
     "output_type": "execute_result"
    }
   ],
   "source": [
    "# Read in CSV file of CIGLR temperature and precipitation data from ERA5\n",
    "df = pd.read_csv('era5_ciglr_temp.nc',index_col='time')\n",
    "df.index = pd.to_datetime(df.index) #<--this converts our time index into Pandas Datetime. It's very useful.\n",
    "df"
   ]
  },
  {
   "cell_type": "code",
   "execution_count": 39,
   "id": "449f8384",
   "metadata": {
    "scrolled": true
   },
   "outputs": [
    {
     "name": "stdout",
     "output_type": "stream",
     "text": [
      "                          t2    precip\n",
      "time                                  \n",
      "2019-01-01 00:00:00  4.22897  0.000142\n",
      "2019-01-01 06:00:00  2.93395  0.000147\n",
      "2019-01-01 12:00:00  1.86074  0.000003\n",
      "2019-01-01 18:00:00  1.45864  0.000014\n",
      "2019-01-02 00:00:00 -1.14136  0.000016\n"
     ]
    }
   ],
   "source": [
    "# right now, \"t2\" is temperature in Kelvin. Let's convert to Celsius \n",
    "# T(C) = T(K) - 273.15\n",
    "\n",
    "df['t2'] = df['t2']-273.15\n",
    "print(df.head()) # this just prints the first 5 entries\n",
    "\n",
    "\n",
    "# ACTIVITY!\n",
    "# The precip column is in units of m (meters). Please convert to units of mm (milimeters)\n",
    "\n"
   ]
  },
  {
   "cell_type": "markdown",
   "id": "27619d50",
   "metadata": {},
   "source": [
    "## Indexing Pandas Dataframes\n",
    "\n",
    "A dataframe with a Pandas Datetime index (i.e., the first column) is helpful, because we can index our time series based on a desired date, range of dates, year, time, etc. "
   ]
  },
  {
   "cell_type": "code",
   "execution_count": 44,
   "id": "8f00e80c",
   "metadata": {},
   "outputs": [
    {
     "data": {
      "text/html": [
       "<div>\n",
       "<style scoped>\n",
       "    .dataframe tbody tr th:only-of-type {\n",
       "        vertical-align: middle;\n",
       "    }\n",
       "\n",
       "    .dataframe tbody tr th {\n",
       "        vertical-align: top;\n",
       "    }\n",
       "\n",
       "    .dataframe thead th {\n",
       "        text-align: right;\n",
       "    }\n",
       "</style>\n",
       "<table border=\"1\" class=\"dataframe\">\n",
       "  <thead>\n",
       "    <tr style=\"text-align: right;\">\n",
       "      <th></th>\n",
       "      <th>t2</th>\n",
       "      <th>precip</th>\n",
       "    </tr>\n",
       "    <tr>\n",
       "      <th>time</th>\n",
       "      <th></th>\n",
       "      <th></th>\n",
       "    </tr>\n",
       "  </thead>\n",
       "  <tbody>\n",
       "  </tbody>\n",
       "</table>\n",
       "</div>"
      ],
      "text/plain": [
       "Empty DataFrame\n",
       "Columns: [t2, precip]\n",
       "Index: []"
      ]
     },
     "execution_count": 44,
     "metadata": {},
     "output_type": "execute_result"
    }
   ],
   "source": [
    "# Grab temp and precip data from one specific day\n",
    "date = pd.to_datetime('2019-04-01 00:00:00')\n",
    "date\n",
    "df.loc[df.index.month==5]"
   ]
  },
  {
   "cell_type": "code",
   "execution_count": null,
   "id": "d3c9e794",
   "metadata": {},
   "outputs": [],
   "source": []
  }
 ],
 "metadata": {
  "kernelspec": {
   "display_name": "Python (ciglr)",
   "language": "python",
   "name": "ciglr"
  },
  "language_info": {
   "codemirror_mode": {
    "name": "ipython",
    "version": 3
   },
   "file_extension": ".py",
   "mimetype": "text/x-python",
   "name": "python",
   "nbconvert_exporter": "python",
   "pygments_lexer": "ipython3",
   "version": "3.11.0"
  }
 },
 "nbformat": 4,
 "nbformat_minor": 5
}
